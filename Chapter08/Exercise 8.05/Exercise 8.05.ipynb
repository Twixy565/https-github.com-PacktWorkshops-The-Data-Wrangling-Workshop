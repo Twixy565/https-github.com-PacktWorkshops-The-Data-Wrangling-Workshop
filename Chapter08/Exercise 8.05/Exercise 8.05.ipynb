{
  "nbformat": 4,
  "nbformat_minor": 0,
  "metadata": {
    "kernelspec": {
      "display_name": "Python 3",
      "language": "python",
      "name": "python3"
    },
    "language_info": {
      "codemirror_mode": {
        "name": "ipython",
        "version": 3
      },
      "file_extension": ".py",
      "mimetype": "text/x-python",
      "name": "python",
      "nbconvert_exporter": "python",
      "pygments_lexer": "ipython3",
      "version": "3.7.3"
    },
    "colab": {
      "name": "Exercise05.ipynb",
      "provenance": [],
      "collapsed_sections": []
    }
  },
  "cells": [
    {
      "cell_type": "code",
      "metadata": {
        "id": "3870iZRza0MT",
        "colab_type": "code",
        "colab": {}
      },
      "source": [
        "import sqlite3 \n",
        "with sqlite3.connect(\"lesson.db\") as conn: \n",
        "     cursor = conn.cursor()"
      ],
      "execution_count": null,
      "outputs": []
    },
    {
      "cell_type": "code",
      "metadata": {
        "id": "Yr2BGByia8fJ",
        "colab_type": "code",
        "colab": {
          "base_uri": "https://localhost:8080/",
          "height": 34
        },
        "outputId": "3e586b43-53d2-4c33-9673-04c7ebcba039"
      },
      "source": [
        "cursor.execute(\"CREATE TABLE IF NOT EXISTS user (email text, first_name text, last_name text, address text, age integer, PRIMARY KEY (email))\") "
      ],
      "execution_count": null,
      "outputs": [
        {
          "output_type": "execute_result",
          "data": {
            "text/plain": [
              "<sqlite3.Cursor at 0x7f627a24bea0>"
            ]
          },
          "metadata": {
            "tags": []
          },
          "execution_count": 4
        }
      ]
    },
    {
      "cell_type": "code",
      "metadata": {
        "id": "jf9Unjaja9ih",
        "colab_type": "code",
        "colab": {}
      },
      "source": [
        "cursor.execute(\"INSERT INTO user VALUES ('bob@example.com', 'Bob', 'Codd', '123 Fantasy lane, Fantasy City', 31)\") \n",
        "cursor.execute(\"INSERT INTO user VALUES ('tom@web.com', 'Tom', 'Fake', '456 Fantasy lane, Fantasy City', 39)\") "
      ],
      "execution_count": null,
      "outputs": []
    },
    {
      "cell_type": "code",
      "metadata": {
        "id": "LkZ4gI1ha-ct",
        "colab_type": "code",
        "colab": {}
      },
      "source": [
        "conn.commit()"
      ],
      "execution_count": null,
      "outputs": []
    },
    {
      "cell_type": "code",
      "metadata": {
        "id": "tDGD_tgFbVYI",
        "colab_type": "code",
        "colab": {}
      },
      "source": [
        "import sqlite3\n",
        "with sqlite3.connect(\"lesson.db\") as conn:\n",
        "    cursor = conn.cursor()\n",
        "    cursor.execute(\"ALTER TABLE user ADD COLUMN gender text\")\n",
        "    conn.commit()\n",
        "    cursor.execute(\"UPDATE user SET gender='M'\")\n",
        "    conn.commit()"
      ],
      "execution_count": null,
      "outputs": []
    },
    {
      "cell_type": "markdown",
      "metadata": {
        "id": "sthXlszla_vF",
        "colab_type": "text"
      },
      "source": [
        "**Exercise05**"
      ]
    },
    {
      "cell_type": "code",
      "metadata": {
        "id": "v0-4XcG1ayGZ",
        "colab_type": "code",
        "colab": {
          "base_uri": "https://localhost:8080/",
          "height": 68
        },
        "outputId": "a5c02f1b-1d05-4c25-e5a4-52d16d44a4af"
      },
      "source": [
        "import sqlite3\n",
        "with sqlite3.connect(\"lesson.db\") as conn:\n",
        "    cursor = conn.cursor()\n",
        "    cursor.execute(\"INSERT INTO user VALUES ('shelly@www.com', 'Shelly', 'Milar', '123, Ocean View Lane', 39, 'F')\")\n",
        "    conn.commit()\n",
        "    cursor = conn.cursor()\n",
        "    rows = cursor.execute('SELECT * FROM user ORDER BY age DESC')\n",
        "    for row in rows:\n",
        "        print(row)\n",
        "   "
      ],
      "execution_count": null,
      "outputs": [
        {
          "output_type": "stream",
          "text": [
            "('tom@web.com', 'Tom', 'Fake', '456 Fantasy lane, Fantasy City', 39, 'M')\n",
            "('shelly@www.com', 'Shelly', 'Milar', '123, Ocean View Lane', 39, 'F')\n",
            "('bob@example.com', 'Bob', 'Codd', '123 Fantasy lane, Fantasy City', 31, 'M')\n"
          ],
          "name": "stdout"
        }
      ]
    },
    {
      "cell_type": "code",
      "metadata": {
        "id": "oCUMi9PEayGh",
        "colab_type": "code",
        "colab": {
          "base_uri": "https://localhost:8080/",
          "height": 51
        },
        "outputId": "ec3e67c8-079e-478e-f482-0d47d4f0d477"
      },
      "source": [
        "rows = cursor.execute(\"SELECT COUNT(*), gender FROM user GROUP BY gender\")\n",
        "for row in rows:\n",
        "        print(row)\n"
      ],
      "execution_count": null,
      "outputs": [
        {
          "output_type": "stream",
          "text": [
            "(1, 'F')\n",
            "(2, 'M')\n"
          ],
          "name": "stdout"
        }
      ]
    },
    {
      "cell_type": "code",
      "metadata": {
        "id": "BQtcpDSAayGp",
        "colab_type": "code",
        "colab": {}
      },
      "source": [
        ""
      ],
      "execution_count": null,
      "outputs": []
    }
  ]
}