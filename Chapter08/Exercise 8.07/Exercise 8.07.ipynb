{
  "nbformat": 4,
  "nbformat_minor": 0,
  "metadata": {
    "kernelspec": {
      "display_name": "Python 3",
      "language": "python",
      "name": "python3"
    },
    "language_info": {
      "codemirror_mode": {
        "name": "ipython",
        "version": 3
      },
      "file_extension": ".py",
      "mimetype": "text/x-python",
      "name": "python",
      "nbconvert_exporter": "python",
      "pygments_lexer": "ipython3",
      "version": "3.7.3"
    },
    "colab": {
      "name": "Exercise07.ipynb",
      "provenance": [],
      "collapsed_sections": []
    }
  },
  "cells": [
    {
      "cell_type": "code",
      "metadata": {
        "id": "6dr0LPiWbk9L",
        "colab_type": "code",
        "colab": {}
      },
      "source": [
        "import sqlite3 \n",
        "with sqlite3.connect(\"lesson.db\") as conn: \n",
        "     cursor = conn.cursor()"
      ],
      "execution_count": null,
      "outputs": []
    },
    {
      "cell_type": "code",
      "metadata": {
        "id": "cRgiWRmpbms7",
        "colab_type": "code",
        "colab": {
          "base_uri": "https://localhost:8080/",
          "height": 34
        },
        "outputId": "ae4a273a-1258-4c38-9de1-fc87a80201ca"
      },
      "source": [
        "cursor.execute(\"CREATE TABLE IF NOT EXISTS user (email text, first_name text, last_name text, address text, age integer, PRIMARY KEY (email))\") "
      ],
      "execution_count": null,
      "outputs": [
        {
          "output_type": "execute_result",
          "data": {
            "text/plain": [
              "<sqlite3.Cursor at 0x7f1e996cbe30>"
            ]
          },
          "metadata": {
            "tags": []
          },
          "execution_count": 2
        }
      ]
    },
    {
      "cell_type": "code",
      "metadata": {
        "id": "tm9mXhrJbqu9",
        "colab_type": "code",
        "colab": {
          "base_uri": "https://localhost:8080/",
          "height": 34
        },
        "outputId": "7496048c-277b-4f4a-ba71-a6bb3142e08c"
      },
      "source": [
        "cursor.execute(\"INSERT INTO user VALUES ('bob@example.com', 'Bob', 'Codd', '123 Fantasy lane, Fantasy City', 31)\") \n",
        "cursor.execute(\"INSERT INTO user VALUES ('tom@web.com', 'Tom', 'Fake', '456 Fantasy lane, Fantasy City', 39)\") "
      ],
      "execution_count": null,
      "outputs": [
        {
          "output_type": "execute_result",
          "data": {
            "text/plain": [
              "<sqlite3.Cursor at 0x7f1e996cbe30>"
            ]
          },
          "metadata": {
            "tags": []
          },
          "execution_count": 3
        }
      ]
    },
    {
      "cell_type": "code",
      "metadata": {
        "id": "I2jh6THDbrmk",
        "colab_type": "code",
        "colab": {}
      },
      "source": [
        "conn.commit()"
      ],
      "execution_count": null,
      "outputs": []
    },
    {
      "cell_type": "code",
      "metadata": {
        "id": "8jEnmtUQbsz1",
        "colab_type": "code",
        "colab": {}
      },
      "source": [
        "import sqlite3\n",
        "with sqlite3.connect(\"lesson.db\") as conn:\n",
        "    cursor = conn.cursor()\n",
        "    cursor.execute(\"ALTER TABLE user ADD COLUMN gender text\")\n",
        "    conn.commit()\n",
        "    cursor.execute(\"UPDATE user SET gender='M'\")\n",
        "    conn.commit()"
      ],
      "execution_count": null,
      "outputs": []
    },
    {
      "cell_type": "code",
      "metadata": {
        "id": "tJeWoBNFb5aM",
        "colab_type": "code",
        "colab": {
          "base_uri": "https://localhost:8080/",
          "height": 68
        },
        "outputId": "7f149b61-c2dc-4834-b3c7-1f741e6ac0e7"
      },
      "source": [
        "import sqlite3\n",
        "with sqlite3.connect(\"lesson.db\") as conn:\n",
        "    cursor = conn.cursor()\n",
        "    cursor.execute(\"INSERT INTO user VALUES ('shelly@www.com', 'Shelly', 'Milar', '123, Ocean View Lane', 39, 'F')\")\n",
        "    conn.commit()\n",
        "    cursor = conn.cursor()\n",
        "    rows = cursor.execute('SELECT * FROM user ORDER BY age DESC')\n",
        "    for row in rows:\n",
        "        print(row)"
      ],
      "execution_count": null,
      "outputs": [
        {
          "output_type": "stream",
          "text": [
            "('tom@web.com', 'Tom', 'Fake', '456 Fantasy lane, Fantasy City', 39, 'M')\n",
            "('shelly@www.com', 'Shelly', 'Milar', '123, Ocean View Lane', 39, 'F')\n",
            "('bob@example.com', 'Bob', 'Codd', '123 Fantasy lane, Fantasy City', 31, 'M')\n"
          ],
          "name": "stdout"
        }
      ]
    },
    {
      "cell_type": "code",
      "metadata": {
        "id": "-11wC0DZcB08",
        "colab_type": "code",
        "colab": {
          "base_uri": "https://localhost:8080/",
          "height": 51
        },
        "outputId": "c603b6d8-3c3c-4984-86ae-aca1188061cf"
      },
      "source": [
        "rows = cursor.execute(\"SELECT COUNT(*), gender FROM user GROUP BY gender\")\n",
        "for row in rows:\n",
        "        print(row)"
      ],
      "execution_count": null,
      "outputs": [
        {
          "output_type": "stream",
          "text": [
            "(1, 'F')\n",
            "(2, 'M')\n"
          ],
          "name": "stdout"
        }
      ]
    },
    {
      "cell_type": "code",
      "metadata": {
        "id": "MOIiPI9nCG-w",
        "colab_type": "code",
        "colab": {}
      },
      "source": [
        "import sqlite3\n",
        "with sqlite3.connect(\"lesson.db\") as conn:\n",
        "    cursor = conn.cursor()\n",
        "    cursor.execute(\"PRAGMA foreign_keys = 1\")\n",
        "    sql = \"\"\"\n",
        "        CREATE TABLE comments (\n",
        "            user_id text,\n",
        "            comments text,\n",
        "            FOREIGN KEY (user_id) REFERENCES user (email) \n",
        "            ON DELETE CASCADE ON UPDATE NO ACTION\n",
        "        )\n",
        "    \"\"\"\n",
        "    cursor.execute(sql)"
      ],
      "execution_count": null,
      "outputs": []
    },
    {
      "cell_type": "code",
      "metadata": {
        "id": "6EDiCHIiCG-_",
        "colab_type": "code",
        "colab": {
          "base_uri": "https://localhost:8080/",
          "height": 68
        },
        "outputId": "9dbef60d-5be3-480d-c381-ba73f9093037"
      },
      "source": [
        "with sqlite3.connect(\"lesson.db\") as conn:\n",
        "    cursor = conn.cursor()\n",
        "    cursor.execute(\"PRAGMA foreign_keys = 1\")\n",
        "    sql = \"INSERT INTO comments VALUES ('{}', '{}')\"\n",
        "    rows = cursor.execute('SELECT * FROM user ORDER BY age')\n",
        "    for row in rows:\n",
        "        email = row[0]\n",
        "        print(\"Going to create rows for {}\".format(email))\n",
        "        name = row[1] + \" \" + row[2]\n",
        "        for i in range(10):\n",
        "            comment = \"This is comment {} by {}\".format(i, name)\n",
        "            conn.cursor().execute(sql.format(email, comment))\n",
        "    conn.commit()"
      ],
      "execution_count": null,
      "outputs": [
        {
          "output_type": "stream",
          "text": [
            "Going to create rows for bob@example.com\n",
            "Going to create rows for tom@web.com\n",
            "Going to create rows for shelly@www.com\n"
          ],
          "name": "stdout"
        }
      ]
    },
    {
      "cell_type": "code",
      "metadata": {
        "id": "de4QlsH3CG_O",
        "colab_type": "code",
        "colab": {
          "base_uri": "https://localhost:8080/",
          "height": 187
        },
        "outputId": "011698b6-a618-423c-dfdf-c7edb35d4431"
      },
      "source": [
        "with sqlite3.connect(\"lesson.db\") as conn:\n",
        "    cursor = conn.cursor()\n",
        "    cursor.execute(\"PRAGMA foreign_keys = 1\")\n",
        "    sql = \"\"\"\n",
        "        SELECT * FROM comments \n",
        "        JOIN user ON comments.user_id = user.email\n",
        "        WHERE user.email='bob@example.com'\n",
        "    \"\"\"\n",
        "    rows = cursor.execute(sql)\n",
        "    for row in rows:\n",
        "        print(row)"
      ],
      "execution_count": null,
      "outputs": [
        {
          "output_type": "stream",
          "text": [
            "('bob@example.com', 'This is comment 0 by Bob Codd', 'bob@example.com', 'Bob', 'Codd', '123 Fantasy lane, Fantasy City', 31, 'M')\n",
            "('bob@example.com', 'This is comment 1 by Bob Codd', 'bob@example.com', 'Bob', 'Codd', '123 Fantasy lane, Fantasy City', 31, 'M')\n",
            "('bob@example.com', 'This is comment 2 by Bob Codd', 'bob@example.com', 'Bob', 'Codd', '123 Fantasy lane, Fantasy City', 31, 'M')\n",
            "('bob@example.com', 'This is comment 3 by Bob Codd', 'bob@example.com', 'Bob', 'Codd', '123 Fantasy lane, Fantasy City', 31, 'M')\n",
            "('bob@example.com', 'This is comment 4 by Bob Codd', 'bob@example.com', 'Bob', 'Codd', '123 Fantasy lane, Fantasy City', 31, 'M')\n",
            "('bob@example.com', 'This is comment 5 by Bob Codd', 'bob@example.com', 'Bob', 'Codd', '123 Fantasy lane, Fantasy City', 31, 'M')\n",
            "('bob@example.com', 'This is comment 6 by Bob Codd', 'bob@example.com', 'Bob', 'Codd', '123 Fantasy lane, Fantasy City', 31, 'M')\n",
            "('bob@example.com', 'This is comment 7 by Bob Codd', 'bob@example.com', 'Bob', 'Codd', '123 Fantasy lane, Fantasy City', 31, 'M')\n",
            "('bob@example.com', 'This is comment 8 by Bob Codd', 'bob@example.com', 'Bob', 'Codd', '123 Fantasy lane, Fantasy City', 31, 'M')\n",
            "('bob@example.com', 'This is comment 9 by Bob Codd', 'bob@example.com', 'Bob', 'Codd', '123 Fantasy lane, Fantasy City', 31, 'M')\n"
          ],
          "name": "stdout"
        }
      ]
    },
    {
      "cell_type": "code",
      "metadata": {
        "id": "MDcrvvnbCG_W",
        "colab_type": "code",
        "colab": {
          "base_uri": "https://localhost:8080/",
          "height": 187
        },
        "outputId": "35d89fc7-8272-4a2f-b87c-8bae8e8eaf0d"
      },
      "source": [
        "with sqlite3.connect(\"lesson.db\") as conn:\n",
        "    cursor = conn.cursor()\n",
        "    cursor.execute(\"PRAGMA foreign_keys = 1\")\n",
        "    sql = \"\"\"\n",
        "        SELECT comments.* FROM comments\n",
        "        JOIN user ON comments.user_id = user.email\n",
        "        WHERE user.email='bob@example.com'\n",
        "    \"\"\"\n",
        "    rows = cursor.execute(sql)\n",
        "    for row in rows:\n",
        "        print(row)"
      ],
      "execution_count": null,
      "outputs": [
        {
          "output_type": "stream",
          "text": [
            "('bob@example.com', 'This is comment 0 by Bob Codd')\n",
            "('bob@example.com', 'This is comment 1 by Bob Codd')\n",
            "('bob@example.com', 'This is comment 2 by Bob Codd')\n",
            "('bob@example.com', 'This is comment 3 by Bob Codd')\n",
            "('bob@example.com', 'This is comment 4 by Bob Codd')\n",
            "('bob@example.com', 'This is comment 5 by Bob Codd')\n",
            "('bob@example.com', 'This is comment 6 by Bob Codd')\n",
            "('bob@example.com', 'This is comment 7 by Bob Codd')\n",
            "('bob@example.com', 'This is comment 8 by Bob Codd')\n",
            "('bob@example.com', 'This is comment 9 by Bob Codd')\n"
          ],
          "name": "stdout"
        }
      ]
    },
    {
      "cell_type": "code",
      "metadata": {
        "id": "ikP_wTKrCG_c",
        "colab_type": "code",
        "colab": {}
      },
      "source": [
        "with sqlite3.connect(\"lesson.db\") as conn:\n",
        "    cursor = conn.cursor()\n",
        "    cursor.execute(\"PRAGMA foreign_keys = 1\")\n",
        "    cursor.execute(\"DELETE FROM user WHERE email='bob@example.com'\")\n",
        "    conn.commit()"
      ],
      "execution_count": null,
      "outputs": []
    },
    {
      "cell_type": "code",
      "metadata": {
        "id": "LM079wBkCG_h",
        "colab_type": "code",
        "colab": {
          "base_uri": "https://localhost:8080/",
          "height": 51
        },
        "outputId": "ae2a88bf-bb39-40d9-fe25-97e8d3cc38d7"
      },
      "source": [
        "with sqlite3.connect(\"lesson.db\") as conn:\n",
        "    cursor = conn.cursor()\n",
        "    cursor.execute(\"PRAGMA foreign_keys = 1\")\n",
        "    rows = cursor.execute(\"SELECT * FROM user\")\n",
        "    for row in rows:\n",
        "        print(row)"
      ],
      "execution_count": null,
      "outputs": [
        {
          "output_type": "stream",
          "text": [
            "('tom@web.com', 'Tom', 'Fake', '456 Fantasy lane, Fantasy City', 39, 'M')\n",
            "('shelly@www.com', 'Shelly', 'Milar', '123, Ocean View Lane', 39, 'F')\n"
          ],
          "name": "stdout"
        }
      ]
    },
    {
      "cell_type": "code",
      "metadata": {
        "id": "VSMuWTGfCG_m",
        "colab_type": "code",
        "colab": {
          "base_uri": "https://localhost:8080/",
          "height": 357
        },
        "outputId": "72322da0-6e97-4a6b-8dc5-5e4eb42bbd8a"
      },
      "source": [
        "with sqlite3.connect(\"lesson.db\") as conn:\n",
        "    cursor = conn.cursor()\n",
        "    cursor.execute(\"PRAGMA foreign_keys = 1\")\n",
        "    rows = cursor.execute(\"SELECT * FROM comments\")\n",
        "    for row in rows:\n",
        "        print(row)"
      ],
      "execution_count": null,
      "outputs": [
        {
          "output_type": "stream",
          "text": [
            "('tom@web.com', 'This is comment 0 by Tom Fake')\n",
            "('tom@web.com', 'This is comment 1 by Tom Fake')\n",
            "('tom@web.com', 'This is comment 2 by Tom Fake')\n",
            "('tom@web.com', 'This is comment 3 by Tom Fake')\n",
            "('tom@web.com', 'This is comment 4 by Tom Fake')\n",
            "('tom@web.com', 'This is comment 5 by Tom Fake')\n",
            "('tom@web.com', 'This is comment 6 by Tom Fake')\n",
            "('tom@web.com', 'This is comment 7 by Tom Fake')\n",
            "('tom@web.com', 'This is comment 8 by Tom Fake')\n",
            "('tom@web.com', 'This is comment 9 by Tom Fake')\n",
            "('shelly@www.com', 'This is comment 0 by Shelly Milar')\n",
            "('shelly@www.com', 'This is comment 1 by Shelly Milar')\n",
            "('shelly@www.com', 'This is comment 2 by Shelly Milar')\n",
            "('shelly@www.com', 'This is comment 3 by Shelly Milar')\n",
            "('shelly@www.com', 'This is comment 4 by Shelly Milar')\n",
            "('shelly@www.com', 'This is comment 5 by Shelly Milar')\n",
            "('shelly@www.com', 'This is comment 6 by Shelly Milar')\n",
            "('shelly@www.com', 'This is comment 7 by Shelly Milar')\n",
            "('shelly@www.com', 'This is comment 8 by Shelly Milar')\n",
            "('shelly@www.com', 'This is comment 9 by Shelly Milar')\n"
          ],
          "name": "stdout"
        }
      ]
    },
    {
      "cell_type": "markdown",
      "metadata": {
        "id": "4xF0V_ZQdvqb",
        "colab_type": "text"
      },
      "source": [
        "**Exercise07**"
      ]
    },
    {
      "cell_type": "code",
      "metadata": {
        "id": "umavN-IOCG_r",
        "colab_type": "code",
        "colab": {}
      },
      "source": [
        "import pandas as pd"
      ],
      "execution_count": null,
      "outputs": []
    },
    {
      "cell_type": "code",
      "metadata": {
        "id": "r2bNTfQ9ecQo",
        "colab_type": "code",
        "colab": {}
      },
      "source": [
        "columns = [\"Email\", \"First Name\", \"Last Name\", \"Age\", \"Gender\", \"Comments\"]\n",
        "data = []\n"
      ],
      "execution_count": null,
      "outputs": []
    },
    {
      "cell_type": "code",
      "metadata": {
        "id": "po6K7Mgzefwp",
        "colab_type": "code",
        "colab": {}
      },
      "source": [
        "import sqlite3\n",
        "with sqlite3.connect(\"lesson.db\") as conn:\n",
        "    cursor = conn.cursor()"
      ],
      "execution_count": null,
      "outputs": []
    },
    {
      "cell_type": "code",
      "metadata": {
        "id": "D-clBrH0emwU",
        "colab_type": "code",
        "colab": {
          "base_uri": "https://localhost:8080/",
          "height": 34
        },
        "outputId": "a36f0462-8fe2-4b71-955c-3bc2b22c9b95"
      },
      "source": [
        "cursor.execute(\"PRAGMA foreign_keys = 1\")"
      ],
      "execution_count": null,
      "outputs": [
        {
          "output_type": "execute_result",
          "data": {
            "text/plain": [
              "<sqlite3.Cursor at 0x7f1e996cbce0>"
            ]
          },
          "metadata": {
            "tags": []
          },
          "execution_count": 18
        }
      ]
    },
    {
      "cell_type": "code",
      "metadata": {
        "id": "7i5HuWVpepb8",
        "colab_type": "code",
        "colab": {}
      },
      "source": [
        "sql = \"\"\"\n",
        "  SELECT user.email, user.first_name, user.last_name, user.age, user.gender, comments.comments FROM comments\n",
        "  JOIN user ON comments.user_id = user.email\n",
        "    WHERE user.email = 'tom@web.com'\n",
        "    \"\"\""
      ],
      "execution_count": null,
      "outputs": []
    },
    {
      "cell_type": "code",
      "metadata": {
        "id": "lFXvFAumetT_",
        "colab_type": "code",
        "colab": {}
      },
      "source": [
        "rows = cursor.execute(sql)"
      ],
      "execution_count": null,
      "outputs": []
    },
    {
      "cell_type": "code",
      "metadata": {
        "id": "1zFVu1iOeyes",
        "colab_type": "code",
        "colab": {}
      },
      "source": [
        "for row in rows:\n",
        "    data.append(row)"
      ],
      "execution_count": null,
      "outputs": []
    },
    {
      "cell_type": "code",
      "metadata": {
        "id": "XqKWsn5me2nD",
        "colab_type": "code",
        "colab": {
          "base_uri": "https://localhost:8080/",
          "height": 359
        },
        "outputId": "7955d6ea-72a9-466f-edad-64692724fe60"
      },
      "source": [
        "df = pd.DataFrame(data, columns=columns)\n",
        "df"
      ],
      "execution_count": null,
      "outputs": [
        {
          "output_type": "execute_result",
          "data": {
            "text/html": [
              "<div>\n",
              "<style scoped>\n",
              "    .dataframe tbody tr th:only-of-type {\n",
              "        vertical-align: middle;\n",
              "    }\n",
              "\n",
              "    .dataframe tbody tr th {\n",
              "        vertical-align: top;\n",
              "    }\n",
              "\n",
              "    .dataframe thead th {\n",
              "        text-align: right;\n",
              "    }\n",
              "</style>\n",
              "<table border=\"1\" class=\"dataframe\">\n",
              "  <thead>\n",
              "    <tr style=\"text-align: right;\">\n",
              "      <th></th>\n",
              "      <th>Email</th>\n",
              "      <th>First Name</th>\n",
              "      <th>Last Name</th>\n",
              "      <th>Age</th>\n",
              "      <th>Gender</th>\n",
              "      <th>Comments</th>\n",
              "    </tr>\n",
              "  </thead>\n",
              "  <tbody>\n",
              "    <tr>\n",
              "      <th>0</th>\n",
              "      <td>tom@web.com</td>\n",
              "      <td>Tom</td>\n",
              "      <td>Fake</td>\n",
              "      <td>39</td>\n",
              "      <td>M</td>\n",
              "      <td>This is comment 0 by Tom Fake</td>\n",
              "    </tr>\n",
              "    <tr>\n",
              "      <th>1</th>\n",
              "      <td>tom@web.com</td>\n",
              "      <td>Tom</td>\n",
              "      <td>Fake</td>\n",
              "      <td>39</td>\n",
              "      <td>M</td>\n",
              "      <td>This is comment 1 by Tom Fake</td>\n",
              "    </tr>\n",
              "    <tr>\n",
              "      <th>2</th>\n",
              "      <td>tom@web.com</td>\n",
              "      <td>Tom</td>\n",
              "      <td>Fake</td>\n",
              "      <td>39</td>\n",
              "      <td>M</td>\n",
              "      <td>This is comment 2 by Tom Fake</td>\n",
              "    </tr>\n",
              "    <tr>\n",
              "      <th>3</th>\n",
              "      <td>tom@web.com</td>\n",
              "      <td>Tom</td>\n",
              "      <td>Fake</td>\n",
              "      <td>39</td>\n",
              "      <td>M</td>\n",
              "      <td>This is comment 3 by Tom Fake</td>\n",
              "    </tr>\n",
              "    <tr>\n",
              "      <th>4</th>\n",
              "      <td>tom@web.com</td>\n",
              "      <td>Tom</td>\n",
              "      <td>Fake</td>\n",
              "      <td>39</td>\n",
              "      <td>M</td>\n",
              "      <td>This is comment 4 by Tom Fake</td>\n",
              "    </tr>\n",
              "    <tr>\n",
              "      <th>5</th>\n",
              "      <td>tom@web.com</td>\n",
              "      <td>Tom</td>\n",
              "      <td>Fake</td>\n",
              "      <td>39</td>\n",
              "      <td>M</td>\n",
              "      <td>This is comment 5 by Tom Fake</td>\n",
              "    </tr>\n",
              "    <tr>\n",
              "      <th>6</th>\n",
              "      <td>tom@web.com</td>\n",
              "      <td>Tom</td>\n",
              "      <td>Fake</td>\n",
              "      <td>39</td>\n",
              "      <td>M</td>\n",
              "      <td>This is comment 6 by Tom Fake</td>\n",
              "    </tr>\n",
              "    <tr>\n",
              "      <th>7</th>\n",
              "      <td>tom@web.com</td>\n",
              "      <td>Tom</td>\n",
              "      <td>Fake</td>\n",
              "      <td>39</td>\n",
              "      <td>M</td>\n",
              "      <td>This is comment 7 by Tom Fake</td>\n",
              "    </tr>\n",
              "    <tr>\n",
              "      <th>8</th>\n",
              "      <td>tom@web.com</td>\n",
              "      <td>Tom</td>\n",
              "      <td>Fake</td>\n",
              "      <td>39</td>\n",
              "      <td>M</td>\n",
              "      <td>This is comment 8 by Tom Fake</td>\n",
              "    </tr>\n",
              "    <tr>\n",
              "      <th>9</th>\n",
              "      <td>tom@web.com</td>\n",
              "      <td>Tom</td>\n",
              "      <td>Fake</td>\n",
              "      <td>39</td>\n",
              "      <td>M</td>\n",
              "      <td>This is comment 9 by Tom Fake</td>\n",
              "    </tr>\n",
              "  </tbody>\n",
              "</table>\n",
              "</div>"
            ],
            "text/plain": [
              "         Email First Name Last Name  Age Gender                       Comments\n",
              "0  tom@web.com        Tom      Fake   39      M  This is comment 0 by Tom Fake\n",
              "1  tom@web.com        Tom      Fake   39      M  This is comment 1 by Tom Fake\n",
              "2  tom@web.com        Tom      Fake   39      M  This is comment 2 by Tom Fake\n",
              "3  tom@web.com        Tom      Fake   39      M  This is comment 3 by Tom Fake\n",
              "4  tom@web.com        Tom      Fake   39      M  This is comment 4 by Tom Fake\n",
              "5  tom@web.com        Tom      Fake   39      M  This is comment 5 by Tom Fake\n",
              "6  tom@web.com        Tom      Fake   39      M  This is comment 6 by Tom Fake\n",
              "7  tom@web.com        Tom      Fake   39      M  This is comment 7 by Tom Fake\n",
              "8  tom@web.com        Tom      Fake   39      M  This is comment 8 by Tom Fake\n",
              "9  tom@web.com        Tom      Fake   39      M  This is comment 9 by Tom Fake"
            ]
          },
          "metadata": {
            "tags": []
          },
          "execution_count": 22
        }
      ]
    }
  ]
}