{
  "nbformat": 4,
  "nbformat_minor": 0,
  "metadata": {
    "kernelspec": {
      "display_name": "Python 3",
      "language": "python",
      "name": "python3"
    },
    "language_info": {
      "codemirror_mode": {
        "name": "ipython",
        "version": 3
      },
      "file_extension": ".py",
      "mimetype": "text/x-python",
      "name": "python",
      "nbconvert_exporter": "python",
      "pygments_lexer": "ipython3",
      "version": "3.7.3"
    },
    "colab": {
      "name": "Exercise06.ipynb",
      "provenance": [],
      "collapsed_sections": []
    }
  },
  "cells": [
    {
      "cell_type": "code",
      "metadata": {
        "id": "6dr0LPiWbk9L",
        "colab_type": "code",
        "colab": {}
      },
      "source": [
        "import sqlite3 \n",
        "with sqlite3.connect(\"lesson.db\") as conn: \n",
        "     cursor = conn.cursor()"
      ],
      "execution_count": null,
      "outputs": []
    },
    {
      "cell_type": "code",
      "metadata": {
        "id": "cRgiWRmpbms7",
        "colab_type": "code",
        "colab": {
          "base_uri": "https://localhost:8080/",
          "height": 34
        },
        "outputId": "10e10b94-b6a2-454b-d892-1bbc3429196e"
      },
      "source": [
        "cursor.execute(\"CREATE TABLE IF NOT EXISTS user (email text, first_name text, last_name text, address text, age integer, PRIMARY KEY (email))\") "
      ],
      "execution_count": null,
      "outputs": [
        {
          "output_type": "execute_result",
          "data": {
            "text/plain": [
              "<sqlite3.Cursor at 0x7f309bccbe30>"
            ]
          },
          "metadata": {
            "tags": []
          },
          "execution_count": 2
        }
      ]
    },
    {
      "cell_type": "code",
      "metadata": {
        "id": "tm9mXhrJbqu9",
        "colab_type": "code",
        "colab": {
          "base_uri": "https://localhost:8080/",
          "height": 34
        },
        "outputId": "33a5850f-f32a-496f-fef6-a79d776300ec"
      },
      "source": [
        "cursor.execute(\"INSERT INTO user VALUES ('bob@example.com', 'Bob', 'Codd', '123 Fantasy lane, Fantasy City', 31)\") \n",
        "cursor.execute(\"INSERT INTO user VALUES ('tom@web.com', 'Tom', 'Fake', '456 Fantasy lane, Fantasy City', 39)\") "
      ],
      "execution_count": null,
      "outputs": [
        {
          "output_type": "execute_result",
          "data": {
            "text/plain": [
              "<sqlite3.Cursor at 0x7f309bccbe30>"
            ]
          },
          "metadata": {
            "tags": []
          },
          "execution_count": 3
        }
      ]
    },
    {
      "cell_type": "code",
      "metadata": {
        "id": "I2jh6THDbrmk",
        "colab_type": "code",
        "colab": {}
      },
      "source": [
        "conn.commit()"
      ],
      "execution_count": null,
      "outputs": []
    },
    {
      "cell_type": "code",
      "metadata": {
        "id": "8jEnmtUQbsz1",
        "colab_type": "code",
        "colab": {}
      },
      "source": [
        "import sqlite3\n",
        "with sqlite3.connect(\"lesson.db\") as conn:\n",
        "    cursor = conn.cursor()\n",
        "    cursor.execute(\"ALTER TABLE user ADD COLUMN gender text\")\n",
        "    conn.commit()\n",
        "    cursor.execute(\"UPDATE user SET gender='M'\")\n",
        "    conn.commit()"
      ],
      "execution_count": null,
      "outputs": []
    },
    {
      "cell_type": "code",
      "metadata": {
        "id": "tJeWoBNFb5aM",
        "colab_type": "code",
        "colab": {
          "base_uri": "https://localhost:8080/",
          "height": 68
        },
        "outputId": "d1f06bad-2e00-4b68-ffbd-bee820cc70f2"
      },
      "source": [
        "import sqlite3\n",
        "with sqlite3.connect(\"lesson.db\") as conn:\n",
        "    cursor = conn.cursor()\n",
        "    cursor.execute(\"INSERT INTO user VALUES ('shelly@www.com', 'Shelly', 'Milar', '123, Ocean View Lane', 39, 'F')\")\n",
        "    conn.commit()\n",
        "    cursor = conn.cursor()\n",
        "    rows = cursor.execute('SELECT * FROM user ORDER BY age DESC')\n",
        "    for row in rows:\n",
        "        print(row)"
      ],
      "execution_count": null,
      "outputs": [
        {
          "output_type": "stream",
          "text": [
            "('tom@web.com', 'Tom', 'Fake', '456 Fantasy lane, Fantasy City', 39, 'M')\n",
            "('shelly@www.com', 'Shelly', 'Milar', '123, Ocean View Lane', 39, 'F')\n",
            "('bob@example.com', 'Bob', 'Codd', '123 Fantasy lane, Fantasy City', 31, 'M')\n"
          ],
          "name": "stdout"
        }
      ]
    },
    {
      "cell_type": "code",
      "metadata": {
        "id": "-11wC0DZcB08",
        "colab_type": "code",
        "colab": {
          "base_uri": "https://localhost:8080/",
          "height": 51
        },
        "outputId": "3b1f6b7b-a7e7-4136-e903-608b478b2f81"
      },
      "source": [
        "rows = cursor.execute(\"SELECT COUNT(*), gender FROM user GROUP BY gender\")\n",
        "for row in rows:\n",
        "        print(row)"
      ],
      "execution_count": null,
      "outputs": [
        {
          "output_type": "stream",
          "text": [
            "(1, 'F')\n",
            "(2, 'M')\n"
          ],
          "name": "stdout"
        }
      ]
    },
    {
      "cell_type": "markdown",
      "metadata": {
        "id": "wXJCr2IpcC_6",
        "colab_type": "text"
      },
      "source": [
        "**Exercise06**"
      ]
    },
    {
      "cell_type": "code",
      "metadata": {
        "id": "MOIiPI9nCG-w",
        "colab_type": "code",
        "colab": {}
      },
      "source": [
        "import sqlite3\n",
        "with sqlite3.connect(\"lesson.db\") as conn:\n",
        "    cursor = conn.cursor()\n",
        "    cursor.execute(\"PRAGMA foreign_keys = 1\")\n",
        "    sql = \"\"\"\n",
        "        CREATE TABLE comments (\n",
        "            user_id text,\n",
        "            comments text,\n",
        "            FOREIGN KEY (user_id) REFERENCES user (email) \n",
        "            ON DELETE CASCADE ON UPDATE NO ACTION\n",
        "        )\n",
        "    \"\"\"\n",
        "    cursor.execute(sql)"
      ],
      "execution_count": null,
      "outputs": []
    },
    {
      "cell_type": "code",
      "metadata": {
        "id": "6EDiCHIiCG-_",
        "colab_type": "code",
        "colab": {
          "base_uri": "https://localhost:8080/",
          "height": 68
        },
        "outputId": "0b325dab-20a8-4fb5-a390-522a70ba275f"
      },
      "source": [
        "with sqlite3.connect(\"lesson.db\") as conn:\n",
        "    cursor = conn.cursor()\n",
        "    cursor.execute(\"PRAGMA foreign_keys = 1\")\n",
        "    sql = \"INSERT INTO comments VALUES ('{}', '{}')\"\n",
        "    rows = cursor.execute('SELECT * FROM user ORDER BY age')\n",
        "    for row in rows:\n",
        "        email = row[0]\n",
        "        print(\"Going to create rows for {}\".format(email))\n",
        "        name = row[1] + \" \" + row[2]\n",
        "        for i in range(10):\n",
        "            comment = \"This is comment {} by {}\".format(i, name)\n",
        "            conn.cursor().execute(sql.format(email, comment))\n",
        "    conn.commit()"
      ],
      "execution_count": null,
      "outputs": [
        {
          "output_type": "stream",
          "text": [
            "Going to create rows for bob@example.com\n",
            "Going to create rows for tom@web.com\n",
            "Going to create rows for shelly@www.com\n"
          ],
          "name": "stdout"
        }
      ]
    },
    {
      "cell_type": "code",
      "metadata": {
        "id": "de4QlsH3CG_O",
        "colab_type": "code",
        "colab": {
          "base_uri": "https://localhost:8080/",
          "height": 187
        },
        "outputId": "65783555-de4e-419c-e6d2-3a58ab1bb1f3"
      },
      "source": [
        "with sqlite3.connect(\"lesson.db\") as conn:\n",
        "    cursor = conn.cursor()\n",
        "    cursor.execute(\"PRAGMA foreign_keys = 1\")\n",
        "    sql = \"\"\"\n",
        "        SELECT * FROM comments \n",
        "        JOIN user ON comments.user_id = user.email\n",
        "        WHERE user.email='bob@example.com'\n",
        "    \"\"\"\n",
        "    rows = cursor.execute(sql)\n",
        "    for row in rows:\n",
        "        print(row)"
      ],
      "execution_count": null,
      "outputs": [
        {
          "output_type": "stream",
          "text": [
            "('bob@example.com', 'This is comment 0 by Bob Codd', 'bob@example.com', 'Bob', 'Codd', '123 Fantasy lane, Fantasy City', 31, 'M')\n",
            "('bob@example.com', 'This is comment 1 by Bob Codd', 'bob@example.com', 'Bob', 'Codd', '123 Fantasy lane, Fantasy City', 31, 'M')\n",
            "('bob@example.com', 'This is comment 2 by Bob Codd', 'bob@example.com', 'Bob', 'Codd', '123 Fantasy lane, Fantasy City', 31, 'M')\n",
            "('bob@example.com', 'This is comment 3 by Bob Codd', 'bob@example.com', 'Bob', 'Codd', '123 Fantasy lane, Fantasy City', 31, 'M')\n",
            "('bob@example.com', 'This is comment 4 by Bob Codd', 'bob@example.com', 'Bob', 'Codd', '123 Fantasy lane, Fantasy City', 31, 'M')\n",
            "('bob@example.com', 'This is comment 5 by Bob Codd', 'bob@example.com', 'Bob', 'Codd', '123 Fantasy lane, Fantasy City', 31, 'M')\n",
            "('bob@example.com', 'This is comment 6 by Bob Codd', 'bob@example.com', 'Bob', 'Codd', '123 Fantasy lane, Fantasy City', 31, 'M')\n",
            "('bob@example.com', 'This is comment 7 by Bob Codd', 'bob@example.com', 'Bob', 'Codd', '123 Fantasy lane, Fantasy City', 31, 'M')\n",
            "('bob@example.com', 'This is comment 8 by Bob Codd', 'bob@example.com', 'Bob', 'Codd', '123 Fantasy lane, Fantasy City', 31, 'M')\n",
            "('bob@example.com', 'This is comment 9 by Bob Codd', 'bob@example.com', 'Bob', 'Codd', '123 Fantasy lane, Fantasy City', 31, 'M')\n"
          ],
          "name": "stdout"
        }
      ]
    },
    {
      "cell_type": "code",
      "metadata": {
        "id": "MDcrvvnbCG_W",
        "colab_type": "code",
        "colab": {
          "base_uri": "https://localhost:8080/",
          "height": 187
        },
        "outputId": "ce9953e3-61be-4b24-9abc-a152a89f3604"
      },
      "source": [
        "with sqlite3.connect(\"lesson.db\") as conn:\n",
        "    cursor = conn.cursor()\n",
        "    cursor.execute(\"PRAGMA foreign_keys = 1\")\n",
        "    sql = \"\"\"\n",
        "        SELECT comments.* FROM comments\n",
        "        JOIN user ON comments.user_id = user.email\n",
        "        WHERE user.email='bob@example.com'\n",
        "    \"\"\"\n",
        "    rows = cursor.execute(sql)\n",
        "    for row in rows:\n",
        "        print(row)"
      ],
      "execution_count": null,
      "outputs": [
        {
          "output_type": "stream",
          "text": [
            "('bob@example.com', 'This is comment 0 by Bob Codd')\n",
            "('bob@example.com', 'This is comment 1 by Bob Codd')\n",
            "('bob@example.com', 'This is comment 2 by Bob Codd')\n",
            "('bob@example.com', 'This is comment 3 by Bob Codd')\n",
            "('bob@example.com', 'This is comment 4 by Bob Codd')\n",
            "('bob@example.com', 'This is comment 5 by Bob Codd')\n",
            "('bob@example.com', 'This is comment 6 by Bob Codd')\n",
            "('bob@example.com', 'This is comment 7 by Bob Codd')\n",
            "('bob@example.com', 'This is comment 8 by Bob Codd')\n",
            "('bob@example.com', 'This is comment 9 by Bob Codd')\n"
          ],
          "name": "stdout"
        }
      ]
    },
    {
      "cell_type": "code",
      "metadata": {
        "id": "ikP_wTKrCG_c",
        "colab_type": "code",
        "colab": {}
      },
      "source": [
        "with sqlite3.connect(\"lesson.db\") as conn:\n",
        "    cursor = conn.cursor()\n",
        "    cursor.execute(\"PRAGMA foreign_keys = 1\")\n",
        "    cursor.execute(\"DELETE FROM user WHERE email='bob@example.com'\")\n",
        "    conn.commit()"
      ],
      "execution_count": null,
      "outputs": []
    },
    {
      "cell_type": "code",
      "metadata": {
        "id": "LM079wBkCG_h",
        "colab_type": "code",
        "colab": {
          "base_uri": "https://localhost:8080/",
          "height": 51
        },
        "outputId": "07fde973-6df3-43c8-dffa-4e4684acd063"
      },
      "source": [
        "with sqlite3.connect(\"lesson.db\") as conn:\n",
        "    cursor = conn.cursor()\n",
        "    cursor.execute(\"PRAGMA foreign_keys = 1\")\n",
        "    rows = cursor.execute(\"SELECT * FROM user\")\n",
        "    for row in rows:\n",
        "        print(row)"
      ],
      "execution_count": null,
      "outputs": [
        {
          "output_type": "stream",
          "text": [
            "('tom@web.com', 'Tom', 'Fake', '456 Fantasy lane, Fantasy City', 39, 'M')\n",
            "('shelly@www.com', 'Shelly', 'Milar', '123, Ocean View Lane', 39, 'F')\n"
          ],
          "name": "stdout"
        }
      ]
    },
    {
      "cell_type": "code",
      "metadata": {
        "id": "VSMuWTGfCG_m",
        "colab_type": "code",
        "colab": {
          "base_uri": "https://localhost:8080/",
          "height": 357
        },
        "outputId": "ce1fb1f0-d546-495a-d4cd-3947ff2ee0b6"
      },
      "source": [
        "with sqlite3.connect(\"lesson.db\") as conn:\n",
        "    cursor = conn.cursor()\n",
        "    cursor.execute(\"PRAGMA foreign_keys = 1\")\n",
        "    rows = cursor.execute(\"SELECT * FROM comments\")\n",
        "    for row in rows:\n",
        "        print(row)"
      ],
      "execution_count": null,
      "outputs": [
        {
          "output_type": "stream",
          "text": [
            "('tom@web.com', 'This is comment 0 by Tom Fake')\n",
            "('tom@web.com', 'This is comment 1 by Tom Fake')\n",
            "('tom@web.com', 'This is comment 2 by Tom Fake')\n",
            "('tom@web.com', 'This is comment 3 by Tom Fake')\n",
            "('tom@web.com', 'This is comment 4 by Tom Fake')\n",
            "('tom@web.com', 'This is comment 5 by Tom Fake')\n",
            "('tom@web.com', 'This is comment 6 by Tom Fake')\n",
            "('tom@web.com', 'This is comment 7 by Tom Fake')\n",
            "('tom@web.com', 'This is comment 8 by Tom Fake')\n",
            "('tom@web.com', 'This is comment 9 by Tom Fake')\n",
            "('shelly@www.com', 'This is comment 0 by Shelly Milar')\n",
            "('shelly@www.com', 'This is comment 1 by Shelly Milar')\n",
            "('shelly@www.com', 'This is comment 2 by Shelly Milar')\n",
            "('shelly@www.com', 'This is comment 3 by Shelly Milar')\n",
            "('shelly@www.com', 'This is comment 4 by Shelly Milar')\n",
            "('shelly@www.com', 'This is comment 5 by Shelly Milar')\n",
            "('shelly@www.com', 'This is comment 6 by Shelly Milar')\n",
            "('shelly@www.com', 'This is comment 7 by Shelly Milar')\n",
            "('shelly@www.com', 'This is comment 8 by Shelly Milar')\n",
            "('shelly@www.com', 'This is comment 9 by Shelly Milar')\n"
          ],
          "name": "stdout"
        }
      ]
    },
    {
      "cell_type": "code",
      "metadata": {
        "id": "umavN-IOCG_r",
        "colab_type": "code",
        "colab": {}
      },
      "source": [
        ""
      ],
      "execution_count": null,
      "outputs": []
    }
  ]
}