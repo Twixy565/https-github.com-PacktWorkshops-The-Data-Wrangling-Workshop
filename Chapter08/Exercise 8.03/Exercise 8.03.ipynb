{
  "nbformat": 4,
  "nbformat_minor": 0,
  "metadata": {
    "kernelspec": {
      "display_name": "Python 3",
      "language": "python",
      "name": "python3"
    },
    "language_info": {
      "codemirror_mode": {
        "name": "ipython",
        "version": 3
      },
      "file_extension": ".py",
      "mimetype": "text/x-python",
      "name": "python",
      "nbconvert_exporter": "python",
      "pygments_lexer": "ipython3",
      "version": "3.7.3"
    },
    "colab": {
      "name": "Exercise03.ipynb",
      "provenance": []
    }
  },
  "cells": [
    {
      "cell_type": "markdown",
      "metadata": {
        "id": "U9aZ35ZRUEhD",
        "colab_type": "text"
      },
      "source": [
        "1.\tConnect to the lesson.db database and sort chapter.db by age in descending order, as follows:"
      ]
    },
    {
      "cell_type": "code",
      "metadata": {
        "id": "W0Op6_HgZgSA",
        "colab_type": "code",
        "colab": {}
      },
      "source": [
        "import sqlite3 \n",
        "with sqlite3.connect(\"lesson.db\") as conn: \n",
        "     cursor = conn.cursor()"
      ],
      "execution_count": 1,
      "outputs": []
    },
    {
      "cell_type": "code",
      "metadata": {
        "id": "-_l2EwtmZoVm",
        "colab_type": "code",
        "colab": {
          "base_uri": "https://localhost:8080/",
          "height": 34
        },
        "outputId": "9bde5a0c-2f3c-40aa-beef-263025a12f02"
      },
      "source": [
        "cursor.execute(\"CREATE TABLE IF NOT EXISTS user (email text, first_name text, last_name text, address text, age integer, PRIMARY KEY (email))\") "
      ],
      "execution_count": 2,
      "outputs": [
        {
          "output_type": "execute_result",
          "data": {
            "text/plain": [
              "<sqlite3.Cursor at 0x7f82b5fac810>"
            ]
          },
          "metadata": {
            "tags": []
          },
          "execution_count": 2
        }
      ]
    },
    {
      "cell_type": "code",
      "metadata": {
        "id": "vhx6nnaKZp1a",
        "colab_type": "code",
        "colab": {
          "base_uri": "https://localhost:8080/",
          "height": 34
        },
        "outputId": "97335f6d-b5f2-48b2-9617-d2f5118aba91"
      },
      "source": [
        "cursor.execute(\"INSERT INTO user VALUES ('bob@example.com', 'Bob', 'Codd', '123 Fantasy lane, Fantasy City', 31)\") \n",
        "cursor.execute(\"INSERT INTO user VALUES ('tom@web.com', 'Tom', 'Fake', '456 Fantasy lane, Fantasy City', 39)\") "
      ],
      "execution_count": 3,
      "outputs": [
        {
          "output_type": "execute_result",
          "data": {
            "text/plain": [
              "<sqlite3.Cursor at 0x7f82b5fac810>"
            ]
          },
          "metadata": {
            "tags": []
          },
          "execution_count": 3
        }
      ]
    },
    {
      "cell_type": "code",
      "metadata": {
        "id": "-hJJyysYZqw7",
        "colab_type": "code",
        "colab": {}
      },
      "source": [
        "conn.commit()"
      ],
      "execution_count": 4,
      "outputs": []
    },
    {
      "cell_type": "markdown",
      "metadata": {
        "id": "1ve2OZGVZv8_",
        "colab_type": "text"
      },
      "source": [
        "**Exercise03**"
      ]
    },
    {
      "cell_type": "code",
      "metadata": {
        "id": "V6BMGTyzUEhH",
        "colab_type": "code",
        "colab": {
          "base_uri": "https://localhost:8080/",
          "height": 51
        },
        "outputId": "70775e97-8ce9-49ed-c983-35874ca294d0"
      },
      "source": [
        "import sqlite3\n",
        "with sqlite3.connect(\"lesson.db\") as conn:\n",
        "    cursor = conn.cursor()\n",
        "    rows = cursor.execute('SELECT * FROM user ORDER BY age DESC')\n",
        "    for row in rows:\n",
        "        print(row)\n"
      ],
      "execution_count": 5,
      "outputs": [
        {
          "output_type": "stream",
          "text": [
            "('tom@web.com', 'Tom', 'Fake', '456 Fantasy lane, Fantasy City', 39)\n",
            "('bob@example.com', 'Bob', 'Codd', '123 Fantasy lane, Fantasy City', 31)\n"
          ],
          "name": "stdout"
        }
      ]
    },
    {
      "cell_type": "markdown",
      "metadata": {
        "id": "TR8bhYWWUEhW",
        "colab_type": "text"
      },
      "source": [
        "2.\tSort the lesson.db database by age in ascending order, as follows:"
      ]
    },
    {
      "cell_type": "code",
      "metadata": {
        "id": "Q7ZqxOCwUEhY",
        "colab_type": "code",
        "colab": {
          "base_uri": "https://localhost:8080/",
          "height": 51
        },
        "outputId": "9b2630cd-e527-4d80-af75-76b2278cda01"
      },
      "source": [
        "with sqlite3.connect(\"lesson.db\") as conn:\n",
        "    cursor = conn.cursor()\n",
        "    rows = cursor.execute('SELECT * FROM user ORDER BY age')\n",
        "    for row in rows:\n",
        "        print(row)\n"
      ],
      "execution_count": 6,
      "outputs": [
        {
          "output_type": "stream",
          "text": [
            "('bob@example.com', 'Bob', 'Codd', '123 Fantasy lane, Fantasy City', 31)\n",
            "('tom@web.com', 'Tom', 'Fake', '456 Fantasy lane, Fantasy City', 39)\n"
          ],
          "name": "stdout"
        }
      ]
    },
    {
      "cell_type": "code",
      "metadata": {
        "id": "y6gknQKAUEhi",
        "colab_type": "code",
        "colab": {}
      },
      "source": [
        ""
      ],
      "execution_count": 6,
      "outputs": []
    }
  ]
}
